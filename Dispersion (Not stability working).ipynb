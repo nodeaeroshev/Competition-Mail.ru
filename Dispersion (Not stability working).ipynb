{
 "cells": [
  {
   "cell_type": "code",
   "execution_count": 96,
   "metadata": {},
   "outputs": [],
   "source": [
    "from typing import Callable\n",
    "import scipy.integrate as integrate\n",
    "import numpy as np"
   ]
  },
  {
   "cell_type": "code",
   "execution_count": 97,
   "metadata": {},
   "outputs": [],
   "source": [
    "left_edge = -1\n",
    "right_edge = 0"
   ]
  },
  {
   "cell_type": "code",
   "execution_count": 98,
   "metadata": {},
   "outputs": [],
   "source": [
    "def formula_1(x: np.double, ksi: np.double) -> np.double:\n",
    "    return (3 * ksi - 2) * x\n",
    "\n",
    "def formula_2(x: np.double, ksi: np.double) -> np.double:\n",
    "    return np.power(x, 2) * (3 * ksi - 2)\n",
    "\n",
    "\n",
    "\n",
    "def M_quad() -> np.double:\n",
    "    return integrate.quad(formula_1, np.NINF, np.PINF, args=(ksi))\n",
    "\n",
    "\n",
    "def D_quad() -> np.double:\n",
    "    return integrate.quad(formula_2, np.NINF, np.PINF, args=(ksi))\n",
    "\n",
    "ksi = np.random.uniform(left_edge, right_edge)"
   ]
  },
  {
   "cell_type": "code",
   "execution_count": 100,
   "metadata": {},
   "outputs": [
    {
     "name": "stdout",
     "output_type": "stream",
     "text": [
      "(3.099117627198344, 0.0005117279277362385)\n",
      "(0.0, 0.0)\n"
     ]
    },
    {
     "name": "stderr",
     "output_type": "stream",
     "text": [
      "<ipython-input-98-6063fb3af0f2>:14: IntegrationWarning: The integral is probably divergent, or slowly convergent.\n",
      "  return integrate.quad(formula_2, np.NINF, np.PINF, args=(ksi))\n"
     ]
    }
   ],
   "source": [
    "disp_quad = D_quad()\n",
    "mat_quad = M_quad()\n",
    "\n",
    "print(disp_quad)\n",
    "print(mat_quad)"
   ]
  },
  {
   "cell_type": "code",
   "execution_count": 106,
   "metadata": {},
   "outputs": [
    {
     "name": "stdout",
     "output_type": "stream",
     "text": [
      "3.099117627198344\n"
     ]
    }
   ],
   "source": [
    "result = disp_quad[0] - np.power(mat_quad[0], 2)\n",
    "print(result)"
   ]
  },
  {
   "cell_type": "code",
   "execution_count": null,
   "metadata": {},
   "outputs": [],
   "source": []
  }
 ],
 "metadata": {
  "kernelspec": {
   "display_name": "Python 3",
   "language": "python",
   "name": "python3"
  },
  "language_info": {
   "codemirror_mode": {
    "name": "ipython",
    "version": 3
   },
   "file_extension": ".py",
   "mimetype": "text/x-python",
   "name": "python",
   "nbconvert_exporter": "python",
   "pygments_lexer": "ipython3",
   "version": "3.8.3"
  }
 },
 "nbformat": 4,
 "nbformat_minor": 4
}
