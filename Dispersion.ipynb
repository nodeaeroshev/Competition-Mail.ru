{
 "cells": [
  {
   "cell_type": "code",
   "execution_count": 240,
   "metadata": {},
   "outputs": [],
   "source": [
    "import scipy.integrate as integrate\n",
    "import numpy as np"
   ]
  },
  {
   "cell_type": "code",
   "execution_count": 241,
   "metadata": {},
   "outputs": [],
   "source": [
    "left_edge = -1\n",
    "right_edge = 0\n",
    "k_ksi = 3\n",
    "b_ksi = 2"
   ]
  },
  {
   "cell_type": "code",
   "execution_count": 242,
   "metadata": {},
   "outputs": [],
   "source": [
    "def func_density(a: np.double, b: np.double) -> np.double:\n",
    "    return 1 / (b - a)\n",
    "\n",
    "def func_value(ksi: np.double) -> np.double:\n",
    "    return k_ksi * ksi - b_ksi\n",
    "\n",
    "def formula_1(x: np.double, a: np.double, b: np.double) -> np.double:\n",
    "    return func_value(x) * func_density(a, b)\n",
    "\n",
    "def formula_2(x: np.double, a: np.double, b: np.double) -> np.double:\n",
    "    return func_value(x)**2 * func_density(a, b)\n",
    "\n",
    "\n",
    "def M_quad(a: np.double, b: np.double) -> np.double:\n",
    "    return integrate.quad(formula_1, a, b, args=(a, b))\n",
    "\n",
    "\n",
    "def D_quad(a: np.double, b: np.double) -> np.double:\n",
    "    return integrate.quad(formula_2, a, b, args=(a, b))"
   ]
  },
  {
   "cell_type": "code",
   "execution_count": 243,
   "metadata": {},
   "outputs": [
    {
     "name": "stdout",
     "output_type": "stream",
     "text": [
      "Integral of D = (13.000000000000002, 1.4432899320127038e-13)\n",
      "Integral of M = (-3.5, 3.885780586188048e-14)\n",
      "Result D = 0.7500000000000018\n"
     ]
    }
   ],
   "source": [
    "disp_quad = D_quad(left_edge, right_edge)\n",
    "mat_quad = M_quad(left_edge, right_edge)\n",
    "\n",
    "\n",
    "disp = disp_quad[0] - (mat_quad[0]**2)\n",
    "\n",
    "print(f\"Integral of D = {disp_quad}\")\n",
    "print(f\"Integral of M = {mat_quad}\")\n",
    "print(f\"Result D = {disp}\")"
   ]
  },
  {
   "cell_type": "code",
   "execution_count": null,
   "metadata": {},
   "outputs": [],
   "source": []
  }
 ],
 "metadata": {
  "kernelspec": {
   "display_name": "Python 3",
   "language": "python",
   "name": "python3"
  },
  "language_info": {
   "codemirror_mode": {
    "name": "ipython",
    "version": 3
   },
   "file_extension": ".py",
   "mimetype": "text/x-python",
   "name": "python",
   "nbconvert_exporter": "python",
   "pygments_lexer": "ipython3",
   "version": "3.8.3"
  }
 },
 "nbformat": 4,
 "nbformat_minor": 4
}
