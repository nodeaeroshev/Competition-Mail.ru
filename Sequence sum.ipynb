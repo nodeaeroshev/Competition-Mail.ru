{
 "cells": [
  {
   "cell_type": "code",
   "execution_count": 3,
   "metadata": {},
   "outputs": [],
   "source": [
    "def func_gen(f_n1, f_n2):\n",
    "    f_next = f_n1 + f_n2\n",
    "    yield f_next\n",
    "\n",
    "def func_curr(f1, f2):\n",
    "    yield f1\n",
    "    yield f2\n",
    "    for val in func_gen(f1, f2):\n",
    "        yield val"
   ]
  },
  {
   "cell_type": "code",
   "execution_count": 2,
   "metadata": {},
   "outputs": [],
   "source": [
    "f1 = 3\n",
    "f2 = 4"
   ]
  },
  {
   "cell_type": "code",
   "execution_count": 6,
   "metadata": {},
   "outputs": [],
   "source": [
    "seq_sum = 0\n",
    "accuracy = 1000\n",
    "step = 0\n",
    "for valn, valn2 in zip(func_curr(f1, f2), func_gen(f1, f2)):\n",
    "    div_val = 1 / (valn * valn2)\n",
    "    seq_sum += div_val\n",
    "    step += 1\n",
    "    if step > accuracy:\n",
    "        break"
   ]
  },
  {
   "cell_type": "code",
   "execution_count": 7,
   "metadata": {},
   "outputs": [
    {
     "name": "stdout",
     "output_type": "stream",
     "text": [
      "0.047619047619047616\n"
     ]
    }
   ],
   "source": [
    "print(seq_sum)"
   ]
  },
  {
   "cell_type": "code",
   "execution_count": null,
   "metadata": {},
   "outputs": [],
   "source": []
  }
 ],
 "metadata": {
  "kernelspec": {
   "display_name": "Python 3",
   "language": "python",
   "name": "python3"
  },
  "language_info": {
   "codemirror_mode": {
    "name": "ipython",
    "version": 3
   },
   "file_extension": ".py",
   "mimetype": "text/x-python",
   "name": "python",
   "nbconvert_exporter": "python",
   "pygments_lexer": "ipython3",
   "version": "3.8.3"
  }
 },
 "nbformat": 4,
 "nbformat_minor": 4
}
