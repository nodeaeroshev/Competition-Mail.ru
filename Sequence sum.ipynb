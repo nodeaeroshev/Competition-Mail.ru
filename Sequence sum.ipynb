{
 "cells": [
  {
   "cell_type": "code",
   "execution_count": 213,
   "metadata": {},
   "outputs": [],
   "source": [
    "from sympy import Sum, oo, Function, S, symbols, solve, summation, Add, Eq, IndexedBase"
   ]
  },
  {
   "cell_type": "code",
   "execution_count": 214,
   "metadata": {},
   "outputs": [],
   "source": [
    "n = symbols('n')"
   ]
  },
  {
   "cell_type": "code",
   "execution_count": 215,
   "metadata": {},
   "outputs": [],
   "source": [
    "class fn(Function):\n",
    "    @classmethod\n",
    "    def eval(cls, n):\n",
    "        if n.is_Number:\n",
    "            if n == 1:\n",
    "                return 4\n",
    "            elif n == 2:\n",
    "                return 5\n",
    "            else:\n",
    "                return cls.eval(n - 2) + cls.eval(n - 1)"
   ]
  },
  {
   "cell_type": "code",
   "execution_count": null,
   "metadata": {},
   "outputs": [],
   "source": [
    "S = Sum(1 / ((fn(n)**2) + (fn(n) * fn(n+1))), (n, 1, 100))\n",
    "Eq(S, S.doit())"
   ]
  },
  {
   "cell_type": "code",
   "execution_count": null,
   "metadata": {},
   "outputs": [],
   "source": [
    "sum_ = summation(1 / ((fn(n)**2) + (fn(n) * fn(n+1))), (n, 1, 100))\n",
    "sum_"
   ]
  },
  {
   "cell_type": "code",
   "execution_count": null,
   "metadata": {},
   "outputs": [],
   "source": [
    "seq_sum = 0\n",
    "for i in range(50, 61):\n",
    "    seq_sum += (i - 1) * 2\n",
    "\n",
    "print(seq_sum)"
   ]
  },
  {
   "cell_type": "code",
   "execution_count": null,
   "metadata": {},
   "outputs": [],
   "source": []
  },
  {
   "cell_type": "code",
   "execution_count": null,
   "metadata": {},
   "outputs": [],
   "source": []
  }
 ],
 "metadata": {
  "kernelspec": {
   "display_name": "Python 3",
   "language": "python",
   "name": "python3"
  },
  "language_info": {
   "codemirror_mode": {
    "name": "ipython",
    "version": 3
   },
   "file_extension": ".py",
   "mimetype": "text/x-python",
   "name": "python",
   "nbconvert_exporter": "python",
   "pygments_lexer": "ipython3",
   "version": "3.8.3"
  }
 },
 "nbformat": 4,
 "nbformat_minor": 4
}
